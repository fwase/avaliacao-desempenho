{
 "cells": [
  {
   "cell_type": "code",
   "execution_count": 24,
   "metadata": {},
   "outputs": [],
   "source": [
    "from functools import reduce\n",
    "from scipy.stats import t\n",
    "from math import sqrt"
   ]
  },
  {
   "cell_type": "code",
   "execution_count": 10,
   "metadata": {},
   "outputs": [],
   "source": [
    "Z_VALUE = {\n",
    "    0.90: 1.645,\n",
    "    0.95: 1.960,\n",
    "    0.99: 2.576\n",
    "}"
   ]
  },
  {
   "cell_type": "code",
   "execution_count": 11,
   "metadata": {},
   "outputs": [
    {
     "data": {
      "text/plain": [
       "1.645"
      ]
     },
     "execution_count": 11,
     "metadata": {},
     "output_type": "execute_result"
    }
   ],
   "source": [
    "Z_VALUE[0.90000000000]"
   ]
  },
  {
   "cell_type": "code",
   "execution_count": 2,
   "metadata": {},
   "outputs": [],
   "source": [
    "def arithmetic_average(values):\n",
    "    return sum(values) / len(values)\n",
    "\n",
    "def weighted_average(values, weights):\n",
    "    numerator = sum([value * weight for value, weight  in zip(values, weights)])\n",
    "    \n",
    "    return numerator / sum(weights)\n",
    "\n",
    "def geometric_mean(values):\n",
    "    mult = reduce(lambda x,y: x * y, values)\n",
    "    return mult ** (1 / len(values))\n",
    "\n",
    "def harmonic_mean(values):\n",
    "    denominator = sum([1 / value for value in values])\n",
    "    \n",
    "    return len(values) / denominator\n",
    "\n",
    "def variance(values):\n",
    "    mean = arithmetic_average(values)\n",
    "    numerator = sum([(value - mean) ** 2 for value in values])\n",
    "    \n",
    "    return numerator / (len(values) - 1)\n",
    "\n",
    "def std_dev(values):\n",
    "    variance_values = variance(values)\n",
    "    \n",
    "    return variance_values ** (1/2)\n",
    "\n",
    "def coefficient_variation(values):\n",
    "    std_dev_values = std_dev(values)\n",
    "    mean = arithmetic_average(values)\n",
    "    \n",
    "    return (std_dev_values / mean) * 100"
   ]
  },
  {
   "cell_type": "code",
   "execution_count": 25,
   "metadata": {},
   "outputs": [],
   "source": [
    "def confidence_interval(sample_values, confidence_level):\n",
    "    mean = arithmetic_average(sample_values)\n",
    "    std_dev_val = std_dev(sample_values)\n",
    "    \n",
    "    if len(sample_values) > 30:\n",
    "        z_value = Z_VALUE[confidence_level]\n",
    "        min_value = mean - ((std_dev_val * z_value) / sqrt(len(sample_values)))\n",
    "        max_value = mean + ((std_dev_val * z_value) / sqrt(len(sample_values)))\n",
    "        \n",
    "        return (min_value, max_value)\n",
    "    else:\n",
    "        degrees_freedom = len(sample_values) - 1\n",
    "        z_value = t.ppf(confidence_level, degrees_freedom)\n",
    "        min_value = mean - ((std_dev_val * z_value) / sqrt(len(sample_values)))\n",
    "        max_value = mean + ((std_dev_val * z_value) / sqrt(len(sample_values)))\n",
    "        \n",
    "        return (min_value, max_value)"
   ]
  },
  {
   "cell_type": "code",
   "execution_count": 30,
   "metadata": {},
   "outputs": [],
   "source": [
    "def mean_zero_test(conf_interval):\n",
    "    min_value, max_value = conf_interval\n",
    "    if min_value <= 0 <= max_value:\n",
    "        return True\n",
    "    \n",
    "    return False"
   ]
  },
  {
   "cell_type": "code",
   "execution_count": null,
   "metadata": {},
   "outputs": [],
   "source": [
    "def confidence_interval_unpaired_samples(sample_values_a, sample_values_b, confidence_level):\n",
    "    mean_sample_a = arithmetic_average(sample_values_a)\n",
    "    mean_sample_b = arithmetic_average(sample_values_b)\n",
    "    diff_mean_samples = mean_sample_a - mean_sample_b\n",
    "    \n",
    "    std_dev_sample_a = std_dev(sample_values_a)\n",
    "    std_dev_sample_b = std_dev(sample_values_b)\n",
    "    diff_mean_std_dev = sqrt((std_dev_sample_a / mean_sample_a) + (std_dev_sample_b / mean_sample_b))\n",
    "    \n",
    "    numerator_df = ((std_dev_sample_a / mean_sample_a) + (std_dev_sample_b / mean_sample_b)) ** 2\n",
    "    denominator_df_sample_a = (1 / (mean_sample_a - 1)) * ((std_dev_sample_a / mean_sample_a) ** 2)\n",
    "    denominator_df_sample_b = (1 / (mean_sample_b - 1)) * ((std_dev_sample_b / mean_sample_b) ** 2)\n",
    "    denominator_df = denominator_df_sample_a + denominator_df_sample_b\n",
    "    degrees_freedom = round((numerator_df / denominator_df) - 2)\n",
    "    \n",
    "    z_value = t.ppf(confidence_level, degrees_freedom)\n",
    "    min_value = diff_mean_samples - (diff_mean_std_dev * z_value)\n",
    "    max_value = diff_mean_samples + (diff_mean_std_dev * z_value)\n",
    "    \n",
    "    return (min_value, max_value)"
   ]
  },
  {
   "cell_type": "code",
   "execution_count": null,
   "metadata": {},
   "outputs": [],
   "source": [
    "def size_of_sample(mean, std_dev_value, z_value, precision):\n",
    "    numerator = 100 * std_dev_value  * z_value\n",
    "    denominator = precision * mean\n",
    "    \n",
    "    return (numerator / denominator) ** 2"
   ]
  },
  {
   "cell_type": "code",
   "execution_count": 18,
   "metadata": {},
   "outputs": [
    {
     "data": {
      "text/plain": [
       "1.7247182429207857"
      ]
     },
     "execution_count": 18,
     "metadata": {},
     "output_type": "execute_result"
    }
   ],
   "source": [
    "t.ppf(0.95, 20)"
   ]
  },
  {
   "cell_type": "code",
   "execution_count": 19,
   "metadata": {},
   "outputs": [],
   "source": [
    "values = [-0.04,-0.19, 0.14, -0.09, -0.14, 0.19, 0.04, 0.09]"
   ]
  },
  {
   "cell_type": "code",
   "execution_count": 28,
   "metadata": {},
   "outputs": [],
   "source": [
    "ic = confidence_interval(values, 0.95)"
   ]
  },
  {
   "cell_type": "code",
   "execution_count": 35,
   "metadata": {},
   "outputs": [
    {
     "data": {
      "text/plain": [
       "False"
      ]
     },
     "execution_count": 35,
     "metadata": {},
     "output_type": "execute_result"
    }
   ],
   "source": [
    "mean_zero_test((-2,-1))"
   ]
  },
  {
   "cell_type": "code",
   "execution_count": null,
   "metadata": {},
   "outputs": [],
   "source": []
  }
 ],
 "metadata": {
  "kernelspec": {
   "display_name": "Python 3",
   "language": "python",
   "name": "python3"
  },
  "language_info": {
   "codemirror_mode": {
    "name": "ipython",
    "version": 3
   },
   "file_extension": ".py",
   "mimetype": "text/x-python",
   "name": "python",
   "nbconvert_exporter": "python",
   "pygments_lexer": "ipython3",
   "version": "3.7.6"
  }
 },
 "nbformat": 4,
 "nbformat_minor": 4
}
